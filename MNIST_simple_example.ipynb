{
 "cells": [
  {
   "cell_type": "markdown",
   "metadata": {},
   "source": [
    "# In this notebook we show the basic experiment with our end-to-end Sinkhorn Autoencoder with Noise Generation, using standard MNIST dataset"
   ]
  },
  {
   "cell_type": "code",
   "execution_count": 1,
   "metadata": {
    "ExecuteTime": {
     "end_time": "2020-11-24T22:30:20.874511Z",
     "start_time": "2020-11-24T22:30:19.787643Z"
    }
   },
   "outputs": [],
   "source": [
    "import torch\n",
    "import torch.nn as nn\n",
    "import torch.nn.functional as F\n",
    "import torch.optim as optim\n",
    "from torchvision import datasets, transforms\n",
    "from torch.autograd import Variable\n",
    "from torchvision.utils import save_image\n",
    "\n",
    "from torchvision.datasets import MNIST\n",
    "from torch.utils.data import Dataset, DataLoader\n",
    "from torch.utils.data.sampler import SubsetRandomSampler\n",
    "import matplotlib.pyplot as plt\n",
    "import time\n",
    "import torchvision\n",
    "import numpy as np\n",
    "from geomloss import SamplesLoss\n",
    "import pickle\n",
    "import pandas as pd"
   ]
  },
  {
   "cell_type": "code",
   "execution_count": 4,
   "metadata": {
    "ExecuteTime": {
     "end_time": "2020-11-24T22:30:29.039311Z",
     "start_time": "2020-11-24T22:30:29.032037Z"
    }
   },
   "outputs": [],
   "source": [
    "torch.cuda.set_device(1)\n",
    "device = torch.device(\"cuda\") \n",
    "# device = torch.device(\"cpu\")"
   ]
  },
  {
   "cell_type": "code",
   "execution_count": 2,
   "metadata": {
    "ExecuteTime": {
     "end_time": "2020-11-24T22:30:22.535807Z",
     "start_time": "2020-11-24T22:30:22.531955Z"
    }
   },
   "outputs": [],
   "source": [
    "batch_size = 1000\n",
    "n_epochs = 20\n",
    "input_size = 64"
   ]
  },
  {
   "cell_type": "code",
   "execution_count": 3,
   "metadata": {
    "ExecuteTime": {
     "end_time": "2020-11-24T22:30:24.633006Z",
     "start_time": "2020-11-24T22:30:24.583837Z"
    }
   },
   "outputs": [],
   "source": [
    "# MNIST Dataset\n",
    "transform = transforms.Compose([\n",
    "    transforms.ToTensor(),\n",
    "    transforms.Normalize(mean=[0.5], std=[0.5])])\n",
    "\n",
    "train_dataset = datasets.MNIST(root='./mnist_data/', train=True, transform=transform, download=True)\n",
    "test_dataset = datasets.MNIST(root='./mnist_data/', train=False, transform=transform, download=True)\n",
    "\n",
    "train_loader = torch.utils.data.DataLoader(dataset=train_dataset, batch_size=batch_size, shuffle=True, drop_last=True)\n",
    "test_loader = torch.utils.data.DataLoader(dataset=test_dataset, batch_size=batch_size, shuffle=True, drop_last=True)"
   ]
  },
  {
   "cell_type": "code",
   "execution_count": 10,
   "metadata": {
    "ExecuteTime": {
     "end_time": "2020-11-24T22:32:50.340087Z",
     "start_time": "2020-11-24T22:32:50.336371Z"
    }
   },
   "outputs": [],
   "source": [
    "n_classes = len(train_dataset.classes)"
   ]
  },
  {
   "cell_type": "markdown",
   "metadata": {},
   "source": [
    "### We define the archtitecture of our model as follows:"
   ]
  },
  {
   "cell_type": "code",
   "execution_count": 11,
   "metadata": {
    "ExecuteTime": {
     "end_time": "2020-11-24T22:32:55.483534Z",
     "start_time": "2020-11-24T22:32:55.387382Z"
    }
   },
   "outputs": [
    {
     "data": {
      "text/plain": [
       "Autoencoder(\n",
       "  (conv1): Conv2d(1, 64, kernel_size=(4, 4), stride=(2, 2), padding=(1, 1), bias=False)\n",
       "  (bn_1): BatchNorm2d(64, eps=1e-05, momentum=0.1, affine=True, track_running_stats=True)\n",
       "  (conv2): Conv2d(64, 64, kernel_size=(4, 4), stride=(2, 2), padding=(1, 1), bias=False)\n",
       "  (bn_2): BatchNorm2d(64, eps=1e-05, momentum=0.1, affine=True, track_running_stats=True)\n",
       "  (conv3): Conv2d(64, 64, kernel_size=(4, 4), stride=(2, 2), padding=(1, 1), bias=False)\n",
       "  (bn_3): BatchNorm2d(64, eps=1e-05, momentum=0.1, affine=True, track_running_stats=True)\n",
       "  (fc3): Linear(in_features=576, out_features=16, bias=True)\n",
       "  (fc1): Linear(in_features=16, out_features=256, bias=True)\n",
       "  (dc1): ConvTranspose2d(64, 256, kernel_size=(4, 4), stride=(2, 2), bias=False)\n",
       "  (dc1_bn): BatchNorm2d(256, eps=1e-05, momentum=0.1, affine=True, track_running_stats=True)\n",
       "  (dc2): ConvTranspose2d(256, 128, kernel_size=(4, 4), stride=(2, 2), padding=(1, 1), bias=False)\n",
       "  (dc2_bn): BatchNorm2d(128, eps=1e-05, momentum=0.1, affine=True, track_running_stats=True)\n",
       "  (dc3): ConvTranspose2d(128, 64, kernel_size=(4, 4), stride=(1, 1), padding=(1, 1), bias=False)\n",
       "  (dc3_bn): BatchNorm2d(64, eps=1e-05, momentum=0.1, affine=True, track_running_stats=True)\n",
       "  (dc4): ConvTranspose2d(64, 1, kernel_size=(4, 4), stride=(2, 2), bias=False)\n",
       "  (ng_fc1): Linear(in_features=64, out_features=128, bias=True)\n",
       "  (ng_input_2): Linear(in_features=10, out_features=64, bias=True)\n",
       "  (ng_fc2): Linear(in_features=192, out_features=256, bias=True)\n",
       "  (ng_fc3): Linear(in_features=256, out_features=192, bias=True)\n",
       "  (ng_fc4): Linear(in_features=192, out_features=16, bias=True)\n",
       ")"
      ]
     },
     "execution_count": 11,
     "metadata": {},
     "output_type": "execute_result"
    }
   ],
   "source": [
    "class Autoencoder(nn.Module):\n",
    "    def __init__(self, g_input_dim, cond_dim):\n",
    "        super(Autoencoder, self).__init__()\n",
    "        self.d = 64\n",
    "        self.conv1 = nn.Conv2d(in_channels=1, out_channels=self.d, kernel_size=4, stride=2, padding=1, bias=False)\n",
    "        self.bn_1 = nn.BatchNorm2d(self.d)\n",
    "        self.conv2 = nn.Conv2d(self.d, self.d, kernel_size=4, stride=2, padding=1, bias=False)\n",
    "        self.bn_2 = nn.BatchNorm2d(self.d)\n",
    "        self.conv3 = nn.Conv2d(self.d, self.d, kernel_size=4, stride=2, padding=1, bias=False)\n",
    "        self.bn_3 = nn.BatchNorm2d(self.d)\n",
    "        self.fc3 = nn.Linear(self.d*9, self.d//4)\n",
    "\n",
    "        self.fc1 = nn.Linear(self.d//4, self.d*4)\n",
    "        self.dc1 = nn.ConvTranspose2d( self.d, self.d * 4, 4, 2, 0, bias=False)\n",
    "        self.dc1_bn = nn.BatchNorm2d(self.d*4)\n",
    "        self.dc2 = nn.ConvTranspose2d( self.d * 4, self.d * 2, 4, 2, 1, bias=False)\n",
    "        self.dc2_bn = nn.BatchNorm2d(self.d*2)\n",
    "        self.dc3 = nn.ConvTranspose2d( self.d * 2, self.d , 4, 1, 1, bias=False)\n",
    "        self.dc3_bn = nn.BatchNorm2d(self.d)\n",
    "        self.dc4 = nn.ConvTranspose2d( self.d , 1, 4, 2, 0, bias=False)    \n",
    "        \n",
    "\n",
    "############        noise_gen\n",
    "        self.ng_fc1 = nn.Linear(g_input_dim, self.d*2)\n",
    "        self.ng_input_2 = nn.Linear(cond_dim,self.d)\n",
    "        self.ng_fc2 = nn.Linear(self.d*3, self.d*4)\n",
    "        self.ng_fc3 = nn.Linear(self.d*4, self.d*3)\n",
    "        self.ng_fc4 = nn.Linear(self.d*3, self.d//4)\n",
    "###############\n",
    "\n",
    "        for m in self.modules():\n",
    "            classname = m.__class__.__name__\n",
    "            if classname.find('Conv') != -1:\n",
    "                nn.init.normal_(m.weight.data, 0.0, 0.02)\n",
    "            elif (classname.find('BatchNorm') != -1):#|(classname.find('Linear') != -1):\n",
    "                nn.init.normal_(m.weight.data, 1.0, 0.02)\n",
    "                nn.init.constant_(m.bias.data, 0)\n",
    "    \n",
    "    # forward method\n",
    "    def forward(self, x):\n",
    "        x = self.conv1(x)\n",
    "        x = F.leaky_relu(self.bn_1(x))\n",
    "        x = self.conv2(x)\n",
    "        x = F.leaky_relu(self.bn_2(x))\n",
    "        x = self.conv3(x)\n",
    "        x = F.leaky_relu(self.bn_3(x))\n",
    "        x = x.view([-1,self.d*9])\n",
    "        y = self.fc3(x)\n",
    "\n",
    "        x = F.leaky_relu(self.fc1(y))\n",
    "        x = x.view(-1,self.d,2,2)\n",
    "        x = self.dc1(x)\n",
    "        x = F.leaky_relu(self.dc1_bn(x))\n",
    "        x = self.dc2(x)\n",
    "        x = F.leaky_relu(self.dc2_bn(x))\n",
    "        x = self.dc3(x)\n",
    "        x = F.leaky_relu(self.dc3_bn(x))\n",
    "        return torch.tanh(self.dc4(x)), y\n",
    "    \n",
    "    def generate(self,x):\n",
    "        x = F.leaky_relu(self.fc1(x))\n",
    "        x = x.view(-1,self.d,2,2)\n",
    "        x = self.dc1(x)\n",
    "        x = F.leaky_relu(self.dc1_bn(x))\n",
    "        x = self.dc2(x)\n",
    "        x =F.leaky_relu(self.dc2_bn(x))\n",
    "        x = self.dc3(x)\n",
    "        x = F.leaky_relu(self.dc3_bn(x))\n",
    "        return torch.tanh(self.dc4(x))\n",
    "    \n",
    "    def generate_noise(self, x, cond_x): \n",
    "        x = F.leaky_relu(self.ng_fc1(x), 0.2)\n",
    "        x2 = F.leaky_relu(self.ng_input_2(cond_x), 0.2)\n",
    "        x_concat = torch.cat((x,x2),1)\n",
    "        x = F.leaky_relu(self.ng_fc2(x_concat), 0.2)\n",
    "        x = F.leaky_relu(self.ng_fc3(x), 0.2)\n",
    "        x = self.ng_fc4(x)\n",
    "        return x\n",
    "    \n",
    "autoencoder = Autoencoder(input_size,n_classes).to(device)\n",
    "autoencoder"
   ]
  },
  {
   "cell_type": "markdown",
   "metadata": {},
   "source": [
    "### We use a standard MSE as a reconstruction loss"
   ]
  },
  {
   "cell_type": "code",
   "execution_count": 14,
   "metadata": {
    "ExecuteTime": {
     "end_time": "2020-11-24T22:36:14.439376Z",
     "start_time": "2020-11-24T22:36:14.435357Z"
    }
   },
   "outputs": [],
   "source": [
    "criterion_mse = nn.MSELoss()"
   ]
  },
  {
   "cell_type": "markdown",
   "metadata": {},
   "source": [
    "### For the sinkhorn loss we use its implementation from the SamplesLoss package"
   ]
  },
  {
   "cell_type": "code",
   "execution_count": 15,
   "metadata": {
    "ExecuteTime": {
     "end_time": "2020-11-24T22:36:15.408857Z",
     "start_time": "2020-11-24T22:36:15.404357Z"
    }
   },
   "outputs": [],
   "source": [
    "loss_func = SamplesLoss(\"sinkhorn\", blur=0.05,scaling = 0.95,diameter=0.01,debias=True)"
   ]
  },
  {
   "cell_type": "markdown",
   "metadata": {},
   "source": [
    "### We use Adam as an opitmizer"
   ]
  },
  {
   "cell_type": "code",
   "execution_count": 16,
   "metadata": {
    "ExecuteTime": {
     "end_time": "2020-11-24T22:36:15.791818Z",
     "start_time": "2020-11-24T22:36:15.786130Z"
    }
   },
   "outputs": [],
   "source": [
    "lr = 0.0001\n",
    "a_optimizer = optim.Adam(autoencoder.parameters(), lr = lr)\n",
    "scheduler = optim.lr_scheduler.ExponentialLR(a_optimizer, gamma = 0.95)"
   ]
  },
  {
   "cell_type": "markdown",
   "metadata": {},
   "source": [
    "### In this simple example we trian the model for 50 epochs\n",
    "### Because of the big differences in losses we scale them by the factors specified below"
   ]
  },
  {
   "cell_type": "code",
   "execution_count": 17,
   "metadata": {
    "ExecuteTime": {
     "end_time": "2020-11-24T22:36:16.598033Z",
     "start_time": "2020-11-24T22:36:16.594219Z"
    }
   },
   "outputs": [],
   "source": [
    "n_epoch = 50\n",
    "a_weigth = 1000\n",
    "ng_weigth = 1 "
   ]
  },
  {
   "cell_type": "code",
   "execution_count": 19,
   "metadata": {
    "ExecuteTime": {
     "end_time": "2020-11-24T22:42:39.154676Z",
     "start_time": "2020-11-24T22:36:35.841616Z"
    },
    "scrolled": true
   },
   "outputs": [
    {
     "name": "stdout",
     "output_type": "stream",
     "text": [
      "[1/50]: loss_ng: 0.8226, loss_a: 0.2516\n",
      "[2/50]: loss_ng: 0.6625, loss_a: 0.1598\n",
      "[3/50]: loss_ng: 0.5492, loss_a: 0.1203\n",
      "[4/50]: loss_ng: 0.4806, loss_a: 0.1001\n",
      "[5/50]: loss_ng: 0.4203, loss_a: 0.0875\n",
      "[6/50]: loss_ng: 0.3669, loss_a: 0.0787\n",
      "[7/50]: loss_ng: 0.3273, loss_a: 0.0722\n",
      "[8/50]: loss_ng: 0.3049, loss_a: 0.0673\n",
      "[9/50]: loss_ng: 0.2852, loss_a: 0.0633\n",
      "[10/50]: loss_ng: 0.2720, loss_a: 0.0602\n",
      "[11/50]: loss_ng: 0.2616, loss_a: 0.0575\n",
      "[12/50]: loss_ng: 0.2534, loss_a: 0.0554\n",
      "[13/50]: loss_ng: 0.2475, loss_a: 0.0534\n",
      "[14/50]: loss_ng: 0.2420, loss_a: 0.0519\n",
      "[15/50]: loss_ng: 0.2385, loss_a: 0.0506\n",
      "[16/50]: loss_ng: 0.2349, loss_a: 0.0494\n",
      "[17/50]: loss_ng: 0.2312, loss_a: 0.0483\n",
      "[18/50]: loss_ng: 0.2287, loss_a: 0.0474\n",
      "[19/50]: loss_ng: 0.2257, loss_a: 0.0465\n",
      "[20/50]: loss_ng: 0.2234, loss_a: 0.0458\n",
      "[21/50]: loss_ng: 0.2218, loss_a: 0.0452\n",
      "[22/50]: loss_ng: 0.2202, loss_a: 0.0446\n",
      "[23/50]: loss_ng: 0.2179, loss_a: 0.0439\n",
      "[24/50]: loss_ng: 0.2158, loss_a: 0.0434\n",
      "[25/50]: loss_ng: 0.2136, loss_a: 0.0430\n",
      "[26/50]: loss_ng: 0.2124, loss_a: 0.0426\n",
      "[27/50]: loss_ng: 0.2112, loss_a: 0.0422\n",
      "[28/50]: loss_ng: 0.2100, loss_a: 0.0419\n",
      "[29/50]: loss_ng: 0.2090, loss_a: 0.0415\n",
      "[30/50]: loss_ng: 0.2074, loss_a: 0.0411\n",
      "[31/50]: loss_ng: 0.2067, loss_a: 0.0409\n",
      "[32/50]: loss_ng: 0.2052, loss_a: 0.0406\n",
      "[33/50]: loss_ng: 0.2044, loss_a: 0.0403\n",
      "[34/50]: loss_ng: 0.2033, loss_a: 0.0401\n",
      "[35/50]: loss_ng: 0.2025, loss_a: 0.0399\n",
      "[36/50]: loss_ng: 0.2020, loss_a: 0.0397\n",
      "[37/50]: loss_ng: 0.2006, loss_a: 0.0395\n",
      "[38/50]: loss_ng: 0.2001, loss_a: 0.0393\n",
      "[39/50]: loss_ng: 0.1991, loss_a: 0.0391\n",
      "[40/50]: loss_ng: 0.1983, loss_a: 0.0390\n",
      "[41/50]: loss_ng: 0.1973, loss_a: 0.0388\n",
      "[42/50]: loss_ng: 0.1974, loss_a: 0.0387\n",
      "[43/50]: loss_ng: 0.1962, loss_a: 0.0385\n",
      "[44/50]: loss_ng: 0.1957, loss_a: 0.0384\n",
      "[45/50]: loss_ng: 0.1947, loss_a: 0.0383\n",
      "[46/50]: loss_ng: 0.1949, loss_a: 0.0382\n",
      "[47/50]: loss_ng: 0.1946, loss_a: 0.0381\n",
      "[48/50]: loss_ng: 0.1938, loss_a: 0.0380\n",
      "[49/50]: loss_ng: 0.1930, loss_a: 0.0378\n",
      "[50/50]: loss_ng: 0.1930, loss_a: 0.0378\n"
     ]
    }
   ],
   "source": [
    "autoencoder.train()\n",
    "for epoch in range(1, n_epoch+1):      \n",
    "    ng_losses = []\n",
    "    a_losses = []\n",
    "    mse_losses = []\n",
    "    l2_loss = []\n",
    "    for batch_idx, (x, cond_x) in enumerate(train_loader):\n",
    "        x = x.to(device)\n",
    "        y_onehot = torch.FloatTensor(batch_size, 10)\n",
    "        y_onehot.zero_()\n",
    "        cond_x = y_onehot.scatter_(1, cond_x.reshape([-1,1]), 1).to(device)\n",
    "        autoencoder.zero_grad()\n",
    "\n",
    "        autoencoder_output, y = autoencoder(x)\n",
    "        \n",
    "        ### STANDARD AUTOENCODER MSE loss\n",
    "        a_loss_mse = criterion_mse(autoencoder_output, x)\n",
    "        \n",
    "        rand_x = torch.rand(batch_size, input_size).to(device) ### Generate input noise for the noise generator\n",
    "        rand_y = autoencoder.generate_noise(rand_x,cond_x) ### Generate noise from random vector and conditional params\n",
    "        ng_loss = loss_func(torch.cat([y,cond_x],1), torch.cat([rand_y,cond_x],1)) ### noise generator losss, \n",
    "            #conditional params added to compute also loss for generating noise close to this from other conditionals\n",
    "\n",
    "        s_loss = ng_weigth*ng_loss+ a_weigth*a_loss_mse\n",
    "        s_loss.backward()\n",
    "        \n",
    "        a_optimizer.step()\n",
    "        a_losses.append(a_loss_mse)\n",
    "        ng_losses.append(ng_loss)\n",
    "\n",
    "    print('[%d/%d]: loss_ng: %.4f, loss_a: %.4f' % (\n",
    "            (epoch), n_epoch, torch.mean(torch.FloatTensor(ng_losses)), torch.mean(torch.FloatTensor(a_losses))))#, torch.mean(torch.FloatTensor(mse_losses)), torch.mean(torch.FloatTensor(l2_loss))))\n",
    "    scheduler.step()\n",
    "#     print(\"lr:\",scheduler.get_lr())"
   ]
  },
  {
   "cell_type": "markdown",
   "metadata": {},
   "source": [
    "### We plot the original images from the test dataset accompanied by their reconstructions with our autoencoder and random generations from the same class"
   ]
  },
  {
   "cell_type": "code",
   "execution_count": 20,
   "metadata": {
    "ExecuteTime": {
     "end_time": "2020-11-24T22:42:45.903593Z",
     "start_time": "2020-11-24T22:42:44.888663Z"
    }
   },
   "outputs": [
    {
     "data": {
      "image/png": "[encoded data removed]",
      "text/plain": [
       "<Figure size 1080x432 with 5 Axes>"
      ]
     },
     "metadata": {
      "needs_background": "light"
     },
     "output_type": "display_data"
    },
    {
     "data": {
      "image/png": "[encoded data removed]",
      "text/plain": [
       "<Figure size 1080x432 with 5 Axes>"
      ]
     },
     "metadata": {
      "needs_background": "light"
     },
     "output_type": "display_data"
    },
    {
     "data": {
      "image/png": "[encoded data removed]",
      "text/plain": [
       "<Figure size 1080x432 with 5 Axes>"
      ]
     },
     "metadata": {
      "needs_background": "light"
     },
     "output_type": "display_data"
    }
   ],
   "source": [
    "autoencoder.eval()\n",
    "x, cond_x = next(iter(test_loader))\n",
    "img_shape = [44,44]\n",
    "\n",
    "plt.figure(figsize=(15,6))\n",
    "for i in range(5):\n",
    "    plt.subplot(2,5,i+1)\n",
    "    example = x[i:i+1]\n",
    "    example = example.cpu().detach().numpy()\n",
    "    example = example.squeeze()\n",
    "#     example[example==0]=-0.1*example.max()\n",
    "    plt.imshow(example)\n",
    "    plt.title(\"Original\\n\")\n",
    "#     print()\n",
    "plt.show()\n",
    "\n",
    "plt.figure(figsize=(15,6))\n",
    "for i in range(5):\n",
    "    plt.subplot(2,5,i+1)\n",
    "    example,_ = autoencoder.forward(x[i:i+1].to(device))\n",
    "    example = example.cpu().detach().numpy()\n",
    "    example = example.squeeze()\n",
    "#     example[example==0]=-0.1*example.max()\n",
    "    plt.imshow(example)\n",
    "    plt.title(\"Decoded\\n\")\n",
    "plt.show()\n",
    "\n",
    "plt.figure(figsize=(15,6))\n",
    "for i in range(5):\n",
    "    plt.subplot(2,5,i+1)\n",
    "    y_onehot = torch.FloatTensor(batch_size, 10)\n",
    "    y_onehot.zero_()\n",
    "    cond_s = y_onehot.scatter_(1, cond_x.reshape([-1,1]), 1)\n",
    "#     generated_noise = ng.forward(torch.rand(1, input_size).to(device),cond_s[i:i+1].to(device))\n",
    "    generated_noise = autoencoder.generate_noise(torch.rand(1, input_size).to(device),cond_s[i:i+1].to(device))\n",
    "    example = autoencoder.generate(generated_noise)\n",
    "    example = example.cpu().detach().numpy()\n",
    "    example = example.squeeze()\n",
    "#     example[example==0]=-0.1*example.max()\n",
    "    plt.imshow(example)\n",
    "    plt.title(\"Generated\\n\")\n",
    "plt.show()\n"
   ]
  }
 ],
 "metadata": {
  "kernelspec": {
   "display_name": "Python 3",
   "language": "python",
   "name": "python3"
  },
  "varInspector": {
   "cols": {
    "lenName": 16,
    "lenType": 16,
    "lenVar": 40
   },
   "kernels_config": {
    "python": {
     "delete_cmd_postfix": "",
     "delete_cmd_prefix": "del ",
     "library": "var_list.py",
     "varRefreshCmd": "print(var_dic_list())"
    },
    "r": {
     "delete_cmd_postfix": ") ",
     "delete_cmd_prefix": "rm(",
     "library": "var_list.r",
     "varRefreshCmd": "cat(var_dic_list()) "
    }
   },
   "types_to_exclude": [
    "module",
    "function",
    "builtin_function_or_method",
    "instance",
    "_Feature"
   ],
   "window_display": false
  }
 },
 "nbformat": 4,
 "nbformat_minor": 4
}
